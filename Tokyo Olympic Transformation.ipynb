# Import necessary libraries
from pyspark.sql import SparkSession
from pyspark.sql.functions import col, desc, round, sum, abs, when

# Initialize Spark session
spark = SparkSession.builder.appName("TokyoOlympicsAnalysis").getOrCreate()

# Mount Azure Data Lake Storage
configs = {
    "fs.azure.account.auth.type": "OAuth",
    "fs.azure.account.oauth.provider.type": "org.apache.hadoop.fs.azurebfs.oauth2.ClientCredsTokenProvider",
    "fs.azure.account.oauth2.client.id": "<your-client-id>",
    "fs.azure.account.oauth2.client.secret": "<your-client-secret>",
    "fs.azure.account.oauth2.client.endpoint": "https://login.microsoftonline.com/<tenant-id>/oauth2/token"
}

dbutils.fs.mount(
    source="abfss://tokyo-olympic-data@tokyoolympicdata.dfs.core.windows.net",
    mount_point="/mnt/tokyoolymic",
    extra_configs=configs
)

# Load raw data
athletes = spark.read.format("csv") \
    .option("header", "true") \
    .option("inferSchema", "true") \
    .load("/mnt/tokyoolymic/raw-data/athletes.csv")

coaches = spark.read.format("csv") \
    .option("header", "true") \
    .option("inferSchema", "true") \
    .load("/mnt/tokyoolymic/raw-data/coaches.csv")

entriesgender = spark.read.format("csv") \
    .option("header", "true") \
    .option("inferSchema", "true") \
    .load("/mnt/tokyoolymic/raw-data/entriesgender.csv")

medals = spark.read.format("csv") \
    .option("header", "true") \
    .option("inferSchema", "true") \
    .load("/mnt/tokyoolymic/raw-data/medals.csv")

teams = spark.read.format("csv") \
    .option("header", "true") \
    .option("inferSchema", "true") \
    .load("/mnt/tokyoolymic/raw-data/teams.csv")

# Data type corrections
entriesgender = entriesgender \
    .withColumn("Female", col("Female").cast("integer")) \
    .withColumn("Male", col("Male").cast("integer")) \
    .withColumn("Total", col("Total").cast("integer"))

# =============================================
# Analytical Queries
# =============================================

# 1. Which countries won the most medals?
print("Top countries by total medals:")
top_medal_countries = medals \
    .withColumn("TotalMedals", col("Gold") + col("Silver") + col("Bronze")) \
    .select("Team_Country", "Gold", "Silver", "Bronze", "TotalMedals") \
    .orderBy(desc("TotalMedals"))

top_medal_countries.show(20)

# 2. What is the gender distribution across different sports?
print("\nGender distribution by sport:")
gender_distribution = entriesgender \
    .withColumn("Female%", round((col("Female")/col("Total"))*100, 2)) \
    .withColumn("Male%", round((col("Male")/col("Total"))*100, 2)) \
    .select("Discipline", "Female", "Male", "Total", "Female%", "Male%") \
    .orderBy("Discipline")

gender_distribution.show(20, truncate=False)

# 3. How many athletes did each country send?
print("\nAthletes count by country:")
athletes_by_country = athletes \
    .groupBy("Country") \
    .count() \
    .withColumnRenamed("count", "AthleteCount") \
    .orderBy(desc("AthleteCount"))

athletes_by_country.show(20)

# 4. What's the athlete-to-medal ratio by country?
print("\nAthlete to medal ratio by country:")
athlete_medal_ratio = athletes_by_country.join(
    medals,
    athletes_by_country["Country"] == medals["Team_Country"],
    "left"
).select(
    athletes_by_country["Country"],
    "AthleteCount",
    col("Gold").alias("GoldMedals"),
    col("Silver").alias("SilverMedals"),
    col("Bronze").alias("BronzeMedals"),
    (col("Gold") + col("Silver") + col("Bronze")).alias("TotalMedals")
).withColumn(
    "AthletesPerMedal",
    when(col("TotalMedals") > 0,
         round(col("AthleteCount")/(col("Gold") + col("Silver") + col("Bronze")), 2)
    .otherwise(None)
).orderBy("AthletesPerMedal")

athlete_medal_ratio.show(20)

# 5. Which sports have the most balanced gender participation?
print("\nSports with most balanced gender participation:")
balanced_sports = gender_distribution \
    .withColumn("GenderBalanceScore", abs(col("Female%") - 50)) \
    .select("Discipline", "Female%", "Male%", "GenderBalanceScore") \
    .orderBy("GenderBalanceScore")

balanced_sports.show(20, truncate=False)

# =============================================
# Save transformed data
# =============================================

# Save base transformed datasets
athletes.repartition(1).write.mode("overwrite") \
    .option("header", "true") \
    .csv("/mnt/tokyoolymic/transformed-data/athletes")

coaches.repartition(1).write.mode("overwrite") \
    .option("header", "true") \
    .csv("/mnt/tokyoolymic/transformed-data/coaches")

entriesgender.repartition(1).write.mode("overwrite") \
    .option("header", "true") \
    .csv("/mnt/tokyoolymic/transformed-data/entriesgender")

medals.repartition(1).write.mode("overwrite") \
    .option("header", "true") \
    .csv("/mnt/tokyoolymic/transformed-data/medals")

teams.repartition(1).write.mode("overwrite") \
    .option("header", "true") \
    .csv("/mnt/tokyoolymic/transformed-data/teams")

# Save analytical results
top_medal_countries.repartition(1).write.mode("overwrite") \
    .option("header", "true") \
    .csv("/mnt/tokyoolymic/transformed-data/top_medal_countries")

gender_distribution.repartition(1).write.mode("overwrite") \
    .option("header", "true") \
    .csv("/mnt/tokyoolymic/transformed-data/gender_distribution")

athlete_medal_ratio.repartition(1).write.mode("overwrite") \
    .option("header", "true") \
    .csv("/mnt/tokyoolymic/transformed-data/athlete_medal_ratio")

balanced_sports.repartition(1).write.mode("overwrite") \
    .option("header", "true") \
    .csv("/mnt/tokyoolymic/transformed-data/balanced_sports")

# Unmount storage when done (optional)
# dbutils.fs.unmount("/mnt/tokyoolymic")
